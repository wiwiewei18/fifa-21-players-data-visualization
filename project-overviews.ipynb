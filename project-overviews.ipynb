{
 "cells": [
  {
   "cell_type": "markdown",
   "metadata": {},
   "source": [
    "### Overview"
   ]
  },
  {
   "cell_type": "markdown",
   "metadata": {},
   "source": [
    "Welcome to this data analysis and visualization project! In this project, we will be exploring the **'FIFA 21 Players'** dataset which comprises a rich variety of information about soccer players from around the world. The data extracted are in 'csv' file format.\n",
    "\n",
    "Your task is to clean and prepare the data for analysis, and then leverage your data visualization skills to **uncovers insights about FIFA 21 players, teams, and overall value and wage dynamics**.\n",
    "\n",
    "Here are your tasks outlined in detail:\n",
    "\n",
    "1. **Data Cleaning**: The initial dataset contains some unnecessary and redundant information. Your first task is to clean and prepare it for analysis. In doing so:\n",
    "    - Remove the 'Unnamed: 0' column from the dataset.\n",
    "    - Removing the Newline Characters.\n",
    "    - Look for columns which contain star ('★') characters. Remove these characters from all such columns.\n",
    "    - Fill in the missing values using an appropriate method.\n",
    "    - In the 'Value', 'Wage', and 'Release Clause' columns, remove the '€', 'K', and 'M' characters and convert the currency value to 'int'. For eg, \"M\" in value column is Million, so multiply the row values by 1,000,000, etc.\n",
    "\n",
    "2. **Data Visualization**: After the data has been cleaned and prepared, use appropriate data visualization methods to represent the data as follows:\n",
    "    - Create a Pie Chart to display the preferred foot ('Left' or 'Right') among the FIFA 21 players.\n",
    "    - Use a Bar Plot to represent the top 3 FIFA 21 players.\n",
    "    - Visualize the best FIFA teams from 100 players based on the 'OVA' score using a Bar Plot.\n",
    "    - Use a Bar Plot to display the top 10 most valuable FIFA teams.\n",
    "    - Create a Scatter Plot to show players who are highly valuable but still underpaid."
   ]
  }
 ],
 "metadata": {
  "language_info": {
   "name": "python"
  }
 },
 "nbformat": 4,
 "nbformat_minor": 2
}
